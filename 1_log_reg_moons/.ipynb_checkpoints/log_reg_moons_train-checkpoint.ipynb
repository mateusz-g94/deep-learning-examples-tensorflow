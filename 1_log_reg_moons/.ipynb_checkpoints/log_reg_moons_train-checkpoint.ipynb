{
 "cells": [
  {
   "cell_type": "code",
   "execution_count": 1,
   "metadata": {},
   "outputs": [],
   "source": [
    "import matplotlib.pyplot as plt\n",
    "from sklearn.datasets import make_moons\n",
    "import numpy as np\n",
    "import tensorflow.compat.v1 as tf\n",
    "from sklearn.metrics import precision_score, recall_score, accuracy_score\n",
    "from sklearn.preprocessing import PolynomialFeatures\n",
    "import os\n",
    "from scipy.stats import reciprocal\n",
    "from datetime import datetime"
   ]
  },
  {
   "cell_type": "markdown",
   "metadata": {},
   "source": [
    "#### Wygenerowanie danych"
   ]
  },
  {
   "cell_type": "code",
   "execution_count": 2,
   "metadata": {},
   "outputs": [],
   "source": [
    "m = 10000\n",
    "X_moons, y_moons = make_moons(m, noise=0.08, random_state=42)"
   ]
  },
  {
   "cell_type": "markdown",
   "metadata": {},
   "source": [
    "#### Wizualizacja danych"
   ]
  },
  {
   "cell_type": "code",
   "execution_count": 3,
   "metadata": {},
   "outputs": [
    {
     "data": {
      "image/png": "[encoded data removed]",
      "text/plain": [
       "<Figure size 432x288 with 1 Axes>"
      ]
     },
     "metadata": {
      "needs_background": "light"
     },
     "output_type": "display_data"
    }
   ],
   "source": [
    "plt.plot(X_moons[y_moons == 1, 0], X_moons[y_moons == 1, 1], 'go', label=\"Pozytywna\")\n",
    "plt.plot(X_moons[y_moons == 0, 0], X_moons[y_moons == 0, 1], 'r^', label=\"Negatywna\")\n",
    "plt.legend()\n",
    "plt.show()"
   ]
  },
  {
   "cell_type": "markdown",
   "metadata": {},
   "source": [
    "#### Dodanie wyrazu wolnego do macierzy danych (bias)"
   ]
  },
  {
   "cell_type": "code",
   "execution_count": 4,
   "metadata": {},
   "outputs": [],
   "source": [
    "X_moons_with_bias = np.c_[np.ones((m, 1)), X_moons]\n",
    "y_moons_column_vector = y_moons.reshape(-1,1)"
   ]
  },
  {
   "cell_type": "markdown",
   "metadata": {},
   "source": [
    "#### Podzial zbioru"
   ]
  },
  {
   "cell_type": "code",
   "execution_count": 5,
   "metadata": {},
   "outputs": [],
   "source": [
    "test_ratio = 0.2\n",
    "test_size = int(m * test_ratio)\n",
    "X_train = X_moons_with_bias[:-test_size]\n",
    "X_test = X_moons_with_bias[-test_size:]\n",
    "y_train = y_moons_column_vector[:-test_size]\n",
    "y_test = y_moons_column_vector[-test_size:]"
   ]
  },
  {
   "cell_type": "markdown",
   "metadata": {},
   "source": [
    "#### Wygenerowanie nowych zmienych (zaleznosci nieliniowe)"
   ]
  },
  {
   "cell_type": "code",
   "execution_count": 6,
   "metadata": {},
   "outputs": [],
   "source": [
    "poly = PolynomialFeatures(3)\n",
    "X_train_en = poly.fit_transform(X_train)\n",
    "X_test_en = poly.fit_transform(X_test)"
   ]
  },
  {
   "cell_type": "markdown",
   "metadata": {},
   "source": [
    "#### Reset grafu"
   ]
  },
  {
   "cell_type": "code",
   "execution_count": 7,
   "metadata": {},
   "outputs": [],
   "source": [
    "def reset_graph(seed=42):\n",
    "    tf.reset_default_graph()\n",
    "    tf.set_random_seed(seed)\n",
    "    np.random.seed(seed)"
   ]
  },
  {
   "cell_type": "code",
   "execution_count": 8,
   "metadata": {},
   "outputs": [],
   "source": [
    "reset_graph()"
   ]
  },
  {
   "cell_type": "markdown",
   "metadata": {},
   "source": [
    "#### Model"
   ]
  },
  {
   "cell_type": "code",
   "execution_count": 9,
   "metadata": {},
   "outputs": [],
   "source": [
    "class LogisticRegressionMiniBatchTF:\n",
    "    \"\"\"\n",
    "    Model regresji logistycznej z zejsciem po gradiencie z minigrupami.\n",
    "    Dane wejsciowe: dane typu numpy.\n",
    "    \n",
    "    IN: numpy: ndarray\n",
    "    \n",
    "    Model zapisuje model finalny w folderze ./final_model.\n",
    "    \n",
    "    Optymalizacja parapetry learning_rate (losowanie z rokladu).\n",
    "    \n",
    "    W folderze ./tmp odkladaja sie dane do hot_start. Model liczy sie od ostatniego checkpointu\n",
    "    po bledzie/przerwaniu przetwarzania.\n",
    "    \n",
    "    Modele porownywane na podstawie accuracy.\n",
    "    \n",
    "    W folderze ./log odkladaja sie logi do tensorboard.\n",
    "    \n",
    "    \"\"\"\n",
    "    def __init__(self, n_epochs, batch_size = 500, learning_rate_init = 0.1, n_iterations = 5):\n",
    "        self.n_epochs = n_epochs\n",
    "        self.batch_size = batch_size\n",
    "        self.learning_rate_init = learning_rate_init\n",
    "        self.n_iterations = n_iterations\n",
    "        self.checkpoint_path = \"./tmp/model.ckpt\"\n",
    "        self.checkpoint_epoch_path = self.checkpoint_path + \".epoch\"\n",
    "        self.checkpoint_lr_path = self.checkpoint_path + \".lr\"\n",
    "        self.final_model_path = \"./final_model/model_final.model\"\n",
    "        if not os.path.isdir(\"./tmp\"):\n",
    "            os.mkdir(\"./tmp\")\n",
    "        \n",
    "    def random_batch(self, X_train, y_train, batch_size):\n",
    "        rnd_indices = np.random.randint(0, len(X_train), batch_size)\n",
    "        X_batch = X_train[rnd_indices]\n",
    "        y_batch = y_train[rnd_indices]\n",
    "        return X_batch, y_batch\n",
    "    \n",
    "    def log_dir(self, prefix=\"\"):\n",
    "        now = datetime.utcnow().strftime(\"%Y%m%d%H%M%S\")\n",
    "        root_logdir = \"./log\"\n",
    "        if prefix:\n",
    "            prefix += \"-\"\n",
    "        name = prefix + \"-\" + now\n",
    "        return \"{}/{}/\".format(root_logdir, name)\n",
    "        \n",
    "    def logistic_regression(self, X, y, initializer = None, seed = 77, learning_rate = 0.01):\n",
    "        \"\"\"\n",
    "        Model - stworzenie grafu obliczen.\n",
    "        \"\"\"\n",
    "        n_inputs = int(X.get_shape()[1])\n",
    "        with tf.name_scope(\"regresja_logistyczna\"):\n",
    "            with tf.name_scope(\"model\"):\n",
    "                if not initializer:\n",
    "                    initializer = tf.random_uniform([n_inputs, 1], -1.0, 1.0, seed = seed)\n",
    "                theta = tf.Variable(initializer, name = \"theta\")\n",
    "                logits = tf.matmul(X, theta, name = \"logits\")\n",
    "                y_proba = tf.sigmoid(logits, name = \"y_proba\")\n",
    "            with tf.name_scope(\"uczenie\"):\n",
    "                loss = tf.losses.log_loss(y, y_proba, scope = \"strata\")\n",
    "                optimizer = tf.train.GradientDescentOptimizer(learning_rate=learning_rate)\n",
    "                training_op = optimizer.minimize(loss)\n",
    "                loss_summary = tf.summary.scalar('log_loss', loss)\n",
    "            with tf.name_scope(\"inicjacja\"):\n",
    "                init = tf.global_variables_initializer()\n",
    "            with tf.name_scope(\"zapis\"):\n",
    "                saver = tf.train.Saver(max_to_keep = 1000000)\n",
    "        return y_proba, loss, training_op, loss_summary, init, saver\n",
    "    \n",
    "    def train(self, X_train, y_train, X_test, y_test):\n",
    "        \"\"\"\n",
    "        X_* - numpy ndarray\n",
    "        y_* - numpy ndarray\n",
    "        \"\"\"\n",
    "        \n",
    "        # wczytanie danych z checkpointu dla optymalizacji learning_rate\n",
    "        # lub inicjalizacja danych poczatkowych\n",
    "        if os.path.isfile(self.checkpoint_epoch_path):\n",
    "            with open(self.checkpoint_lr_path, 'r') as f:\n",
    "                dt = f.read().split(',')\n",
    "                start_iterations = int(dt[0])\n",
    "                lr_best = float(dt[1])\n",
    "                acc_best = float(dt[2])\n",
    "                print('Uczenie wznowione od przebiegu:', start_iterations + 1, '\\tNajlepszy lr', lr_best, '\\tNajlepsze accuracy', acc_best)\n",
    "        else:\n",
    "            start_iterations = 0\n",
    "            lr_best = 0\n",
    "            acc_best = 0\n",
    "            \n",
    "        n_batches = int(np.ceil(X_train.shape[0] / self.batch_size))\n",
    "        n_inputs = int(X_train.shape[1])\n",
    "\n",
    "        for iteration in range(start_iterations, self.n_iterations):\n",
    "\n",
    "            with tf.Session() as sess:\n",
    "                \n",
    "                # folder logu - dane do tensorboard\n",
    "                logdir = self.log_dir('log')\n",
    "                file_writer = tf.summary.FileWriter(logdir, tf.get_default_graph())\n",
    "                \n",
    "                if iteration == 0:\n",
    "                    lr = self.learning_rate_init\n",
    "                else:\n",
    "                    lr = reciprocal(0.01, 1).rvs(random_state = iteration)\n",
    "\n",
    "                print('Przebieg:', iteration + 1)\n",
    "                print('    Logdir:', logdir)\n",
    "                print('    Learning rate:', lr)\n",
    "\n",
    "                with open(self.checkpoint_lr_path, 'w') as f:\n",
    "                    f.write(\"%d, %s, %s\" % (iteration, lr_best, acc_best))\n",
    "\n",
    "                X = tf.placeholder(tf.float32, shape=(None, n_inputs), name=\"X\")\n",
    "                y = tf.placeholder(tf.float32, shape=(None, 1), name=\"y\")\n",
    "                y_proba, loss, training_op, loss_summary, init, saver = self.logistic_regression(X, y, learning_rate = lr)                \n",
    "\n",
    "                if os.path.isfile(self.checkpoint_epoch_path):\n",
    "                    with open(self.checkpoint_epoch_path, 'rb') as f:\n",
    "                        start_epoch = int(f.read())\n",
    "                    print('Uczenie wznowione od epoki:', start_epoch)\n",
    "                    saver.restore(sess, self.checkpoint_path)\n",
    "                else:\n",
    "                    start_epoch = 0\n",
    "                    sess.run(init)\n",
    "                \n",
    "                for epoch in range(start_epoch, self.n_epochs):\n",
    "                    for batch_index in range(n_batches):\n",
    "                        X_batch, y_batch = self.random_batch(X_train, y_train, self.batch_size)\n",
    "                        sess.run(training_op, feed_dict = {X : X_batch, y : y_batch})\n",
    "                    loss_val, summary_str = sess.run([loss, loss_summary], feed_dict = {X : X_test, y : y_test})\n",
    "                    file_writer.add_summary(summary_str, epoch)\n",
    "                    y_proba_val = y_proba.eval(feed_dict = {X : X_test, y : y_test})\n",
    "                    y_pred = (y_proba_val >= 0.5)\n",
    "                    acc = accuracy_score(y_test, y_pred)\n",
    "                    acc_summary = tf.summary.scalar('accuracy', acc)\n",
    "                    if epoch % 100 == 0 and epoch != 0:\n",
    "                        print('        Epoka:', epoch, '\\tLoss:', loss_val, '\\tAccuracy:', acc)\n",
    "                        saver.save(sess, self.checkpoint_path)\n",
    "                        with open(self.checkpoint_epoch_path, 'wb') as f:\n",
    "                             f.write(b\"%d\" % (epoch + 1))\n",
    "\n",
    "                y_proba_val = y_proba.eval(feed_dict = {X : X_test, y : y_test})\n",
    "                y_pred = (y_proba_val >= 0.5)\n",
    "                acc = accuracy_score(y_test, y_pred)\n",
    "\n",
    "                if acc > acc_best:\n",
    "                    # Problem z zapisywaniem modelu\n",
    "                    saver.save(sess, self.final_model_path)\n",
    "                    lr_best = lr\n",
    "                    acc_best = acc\n",
    "\n",
    "                os.remove(self.checkpoint_epoch_path)        \n",
    "                print('    Final iteration accuracy:', acc)\n",
    "\n",
    "        os.remove(self.checkpoint_lr_path)\n",
    "        self.acc_best = acc_best\n",
    "        self.lr_best = lr_best\n",
    "        print('Final accuracy:', acc_best, 'Learning rate:', lr_best)\n",
    "\n",
    "    def predict(self, X_score):\n",
    "        \"\"\"\n",
    "        IN: X_score - numpy ndarray\n",
    "        OUT: ndarray \n",
    "        \"\"\"\n",
    "        with tf.Session() as sess:\n",
    "            saver = tf.train.import_meta_graph(self.final_model_path + '.meta')\n",
    "            saver.restore(sess, self.final_model_path)\n",
    "            graph = tf.get_default_graph()\n",
    "            X = graph.get_tensor_by_name(\"X:0\")\n",
    "            y = graph.get_tensor_by_name(\"y:0\")\n",
    "            y_proba = graph.get_tensor_by_name(\"regresja_logistyczna/model/y_proba:0\")\n",
    "            feed_dict = {X : X_score}\n",
    "            y_proba_val = sess.run(y_proba, feed_dict = {X : X_score})\n",
    "            return (y_proba_val >= 0.5)"
   ]
  },
  {
   "cell_type": "code",
   "execution_count": 10,
   "metadata": {},
   "outputs": [],
   "source": [
    "model = LogisticRegressionMiniBatchTF(n_epochs = 501, n_iterations = 10, learning_rate_init = 0.85)"
   ]
  },
  {
   "cell_type": "code",
   "execution_count": 11,
   "metadata": {},
   "outputs": [
    {
     "name": "stdout",
     "output_type": "stream",
     "text": [
      "Przebieg: 1\n",
      "    Logdir: ./log/log--20200927205434/\n",
      "    Learning rate: 0.85\n",
      "        Epoka: 100 \tLoss: 0.015833488 \tAccuracy: 1.0\n",
      "        Epoka: 200 \tLoss: 0.009517016 \tAccuracy: 1.0\n",
      "        Epoka: 300 \tLoss: 0.0070255315 \tAccuracy: 1.0\n",
      "        Epoka: 400 \tLoss: 0.0056434846 \tAccuracy: 1.0\n",
      "        Epoka: 500 \tLoss: 0.0047692927 \tAccuracy: 1.0\n",
      "    Final iteration accuracy: 1.0\n",
      "Przebieg: 2\n",
      "    Logdir: ./log/log--20200927205515/\n",
      "    Learning rate: 0.06824078427098831\n",
      "        Epoka: 100 \tLoss: 0.09499588 \tAccuracy: 0.9715\n",
      "        Epoka: 200 \tLoss: 0.059978753 \tAccuracy: 0.988\n",
      "        Epoka: 300 \tLoss: 0.045141023 \tAccuracy: 0.993\n",
      "        Epoka: 400 \tLoss: 0.036680073 \tAccuracy: 0.9945\n",
      "        Epoka: 500 \tLoss: 0.031206554 \tAccuracy: 0.9975\n",
      "    Final iteration accuracy: 0.9975\n",
      "Przebieg: 3\n",
      "    Logdir: ./log/log--20200927205643/\n",
      "    Learning rate: 0.07447144904083068\n",
      "        Epoka: 100 \tLoss: 0.089835435 \tAccuracy: 0.973\n",
      "        Epoka: 200 \tLoss: 0.05650984 \tAccuracy: 0.9885\n",
      "        Epoka: 300 \tLoss: 0.042417575 \tAccuracy: 0.9935\n",
      "        Epoka: 400 \tLoss: 0.034490474 \tAccuracy: 0.995\n",
      "        Epoka: 500 \tLoss: 0.02932701 \tAccuracy: 0.998\n",
      "    Final iteration accuracy: 0.998\n",
      "Przebieg: 4\n",
      "    Logdir: ./log/log--20200927205901/\n",
      "    Learning rate: 0.1263559813738166\n",
      "        Epoka: 100 \tLoss: 0.06318507 \tAccuracy: 0.9875\n",
      "        Epoka: 200 \tLoss: 0.038658433 \tAccuracy: 0.994\n",
      "        Epoka: 300 \tLoss: 0.028853428 \tAccuracy: 0.998\n",
      "        Epoka: 400 \tLoss: 0.023398083 \tAccuracy: 0.9995\n",
      "        Epoka: 500 \tLoss: 0.01987256 \tAccuracy: 0.9995\n",
      "    Final iteration accuracy: 0.9995\n",
      "Przebieg: 5\n",
      "    Logdir: ./log/log--20200927210210/\n",
      "    Learning rate: 0.8591315698733483\n",
      "        Epoka: 100 \tLoss: 0.015762134 \tAccuracy: 1.0\n",
      "        Epoka: 200 \tLoss: 0.0094374865 \tAccuracy: 1.0\n",
      "        Epoka: 300 \tLoss: 0.0069833295 \tAccuracy: 1.0\n",
      "        Epoka: 400 \tLoss: 0.005606266 \tAccuracy: 1.0\n",
      "        Epoka: 500 \tLoss: 0.0047482518 \tAccuracy: 1.0\n",
      "    Final iteration accuracy: 1.0\n",
      "Przebieg: 6\n",
      "    Logdir: ./log/log--20200927210611/\n",
      "    Learning rate: 0.02779625851893938\n",
      "        Epoka: 100 \tLoss: 0.15572663 \tAccuracy: 0.9335\n",
      "        Epoka: 200 \tLoss: 0.10807812 \tAccuracy: 0.9665\n",
      "        Epoka: 300 \tLoss: 0.08382539 \tAccuracy: 0.976\n",
      "        Epoka: 400 \tLoss: 0.069199294 \tAccuracy: 0.9835\n",
      "        Epoka: 500 \tLoss: 0.05935793 \tAccuracy: 0.988\n",
      "    Final iteration accuracy: 0.988\n",
      "Przebieg: 7\n",
      "    Logdir: ./log/log--20200927211109/\n",
      "    Learning rate: 0.6105486887627989\n",
      "        Epoka: 100 \tLoss: 0.020288384 \tAccuracy: 0.9995\n",
      "        Epoka: 200 \tLoss: 0.012216282 \tAccuracy: 1.0\n",
      "        Epoka: 300 \tLoss: 0.009027722 \tAccuracy: 1.0\n",
      "        Epoka: 400 \tLoss: 0.007251255 \tAccuracy: 1.0\n",
      "        Epoka: 500 \tLoss: 0.0061800405 \tAccuracy: 1.0\n",
      "    Final iteration accuracy: 1.0\n",
      "Przebieg: 8\n",
      "    Logdir: ./log/log--20200927211702/\n",
      "    Learning rate: 0.014210736239935738\n",
      "        Epoka: 100 \tLoss: 0.20280255 \tAccuracy: 0.91\n",
      "        Epoka: 200 \tLoss: 0.15457726 \tAccuracy: 0.933\n",
      "        Epoka: 300 \tLoss: 0.12591313 \tAccuracy: 0.9535\n",
      "        Epoka: 400 \tLoss: 0.106815144 \tAccuracy: 0.9665\n",
      "        Epoka: 500 \tLoss: 0.09308483 \tAccuracy: 0.972\n",
      "    Final iteration accuracy: 0.972\n",
      "Przebieg: 9\n",
      "    Logdir: ./log/log--20200927212356/\n",
      "    Learning rate: 0.5582886587978199\n",
      "        Epoka: 100 \tLoss: 0.02170431 \tAccuracy: 0.9995\n",
      "        Epoka: 200 \tLoss: 0.013016872 \tAccuracy: 1.0\n",
      "        Epoka: 300 \tLoss: 0.009631781 \tAccuracy: 1.0\n",
      "        Epoka: 400 \tLoss: 0.0077859056 \tAccuracy: 1.0\n",
      "        Epoka: 500 \tLoss: 0.0066056997 \tAccuracy: 1.0\n",
      "    Final iteration accuracy: 1.0\n",
      "Przebieg: 10\n",
      "    Logdir: ./log/log--20200927213153/\n",
      "    Learning rate: 0.01048934350142986\n",
      "        Epoka: 100 \tLoss: 0.22384058 \tAccuracy: 0.8985\n",
      "        Epoka: 200 \tLoss: 0.17633715 \tAccuracy: 0.922\n",
      "        Epoka: 300 \tLoss: 0.147376 \tAccuracy: 0.937\n",
      "        Epoka: 400 \tLoss: 0.12717424 \tAccuracy: 0.9525\n",
      "        Epoka: 500 \tLoss: 0.112029515 \tAccuracy: 0.9625\n",
      "    Final iteration accuracy: 0.9625\n",
      "Final accuracy: 1.0 Learning rate: 0.85\n"
     ]
    }
   ],
   "source": [
    "model.train(X_train = X_train_en, y_train = y_train, X_test = X_test_en, y_test = y_test)"
   ]
  },
  {
   "cell_type": "markdown",
   "metadata": {},
   "source": [
    "#### Ewaluacja (zbior testowy)"
   ]
  },
  {
   "cell_type": "code",
   "execution_count": 12,
   "metadata": {},
   "outputs": [
    {
     "name": "stdout",
     "output_type": "stream",
     "text": [
      "INFO:tensorflow:Restoring parameters from ./final_model/model_final.model\n"
     ]
    }
   ],
   "source": [
    "y_pred = model.predict(X_test_en)"
   ]
  },
  {
   "cell_type": "code",
   "execution_count": 13,
   "metadata": {},
   "outputs": [
    {
     "data": {
      "text/plain": [
       "1.0"
      ]
     },
     "execution_count": 13,
     "metadata": {},
     "output_type": "execute_result"
    }
   ],
   "source": [
    "accuracy_score(y_pred, y_test)"
   ]
  },
  {
   "cell_type": "code",
   "execution_count": 14,
   "metadata": {},
   "outputs": [
    {
     "data": {
      "image/png": "[encoded data removed]",
      "text/plain": [
       "<Figure size 432x288 with 1 Axes>"
      ]
     },
     "metadata": {
      "needs_background": "light"
     },
     "output_type": "display_data"
    }
   ],
   "source": [
    "y_pred_idx = y_pred.reshape(-1) \n",
    "plt.plot(X_test[y_pred_idx, 1], X_test[y_pred_idx, 2], 'go', label=\"Pozytywna\")\n",
    "plt.plot(X_test[~y_pred_idx, 1], X_test[~y_pred_idx, 2], 'r^', label=\"Negatywna\")\n",
    "plt.legend()\n",
    "plt.show()"
   ]
  }
 ],
 "metadata": {
  "kernelspec": {
   "display_name": "Python 3",
   "language": "python",
   "name": "python3"
  },
  "language_info": {
   "codemirror_mode": {
    "name": "ipython",
    "version": 3
   },
   "file_extension": ".py",
   "mimetype": "text/x-python",
   "name": "python",
   "nbconvert_exporter": "python",
   "pygments_lexer": "ipython3",
   "version": "3.7.3"
  }
 },
 "nbformat": 4,
 "nbformat_minor": 4
}
