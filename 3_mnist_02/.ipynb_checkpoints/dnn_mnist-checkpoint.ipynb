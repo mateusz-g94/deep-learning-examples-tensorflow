{
 "cells": [
  {
   "cell_type": "markdown",
   "metadata": {},
   "source": [
    "### Project goal: accuracy > 98.1% on independent test set, reduction of loss function fluctation using regularization\n",
    "#### Change activation function (ELU)\n",
    "#### Momentum optimizer\n",
    "#### Add He inicialization\n",
    "#### Add Clip values\n",
    "#### Add Dropout"
   ]
  },
  {
   "cell_type": "markdown",
   "metadata": {},
   "source": [
    "### Project goal: accuracy > 98.1% on independent test set"
   ]
  },
  {
   "cell_type": "markdown",
   "metadata": {},
   "source": [
    "#### Tensorflow v > 2 but using compat.v1 (transition code)"
   ]
  },
  {
   "cell_type": "code",
   "execution_count": 1,
   "metadata": {},
   "outputs": [],
   "source": [
    "import matplotlib.pyplot as plt\n",
    "import numpy as np\n",
    "import matplotlib\n",
    "import random\n",
    "import tensorflow.compat.v1 as tf\n",
    "from tensorflow.keras.datasets.mnist import load_data\n",
    "from sklearn.metrics import precision_score, recall_score, accuracy_score\n",
    "from sklearn.preprocessing import PolynomialFeatures\n",
    "import os\n",
    "from scipy.stats import reciprocal\n",
    "from datetime import datetime"
   ]
  },
  {
   "cell_type": "markdown",
   "metadata": {},
   "source": [
    "#### Pobranie danych przez API-keras"
   ]
  },
  {
   "cell_type": "code",
   "execution_count": 2,
   "metadata": {},
   "outputs": [],
   "source": [
    "(X_train, y_train), (X_test, y_test) = load_data()"
   ]
  },
  {
   "cell_type": "code",
   "execution_count": 3,
   "metadata": {},
   "outputs": [],
   "source": [
    "def reshape_data(X):\n",
    "    return X.reshape(X.shape[0], -1)"
   ]
  },
  {
   "cell_type": "code",
   "execution_count": 4,
   "metadata": {},
   "outputs": [],
   "source": [
    "X_train_re, X_test_re = reshape_data(X_train), reshape_data(X_test)\n",
    "X_train_re, X_test_re = X_train_re.astype(float), X_test_re.astype(float)"
   ]
  },
  {
   "cell_type": "markdown",
   "metadata": {},
   "source": [
    "#### Wizualizacja przykladowych danych"
   ]
  },
  {
   "cell_type": "code",
   "execution_count": 5,
   "metadata": {},
   "outputs": [
    {
     "name": "stdout",
     "output_type": "stream",
     "text": [
      "Ilosc przykladow uczacych: 60000\n",
      "Ilosc przykladow testowych: 10000\n"
     ]
    }
   ],
   "source": [
    "print('Ilosc przykladow uczacych:', len(X_train))\n",
    "print('Ilosc przykladow testowych:', len(X_test))"
   ]
  },
  {
   "cell_type": "code",
   "execution_count": 6,
   "metadata": {},
   "outputs": [],
   "source": [
    "def plot_digit(X, y, n = None):\n",
    "    if not n:\n",
    "        n = random.randint(0, len(X))\n",
    "    digit, label = X[n], y[n]\n",
    "    plt.imshow(digit, cmap = matplotlib.cm.binary, interpolation = 'nearest')\n",
    "    plt.axis('off')\n",
    "    plt.title(\"Label:\" + str(label))\n",
    "    plt.show()"
   ]
  },
  {
   "cell_type": "code",
   "execution_count": 7,
   "metadata": {},
   "outputs": [
    {
     "data": {
      "image/png": "[encoded data removed]",
      "text/plain": [
       "<Figure size 432x288 with 1 Axes>"
      ]
     },
     "metadata": {
      "needs_background": "light"
     },
     "output_type": "display_data"
    }
   ],
   "source": [
    "plot_digit(X = X_train, y = y_train)"
   ]
  },
  {
   "cell_type": "markdown",
   "metadata": {},
   "source": [
    "#### Reset grafu"
   ]
  },
  {
   "cell_type": "code",
   "execution_count": 8,
   "metadata": {},
   "outputs": [],
   "source": [
    "import random\n",
    "def reset_graph():\n",
    "    tf.reset_default_graph()\n",
    "    seed = random.randint(1, 500)\n",
    "    tf.set_random_seed(seed)\n",
    "    np.random.seed(seed)"
   ]
  },
  {
   "cell_type": "code",
   "execution_count": 9,
   "metadata": {},
   "outputs": [],
   "source": [
    "reset_graph()"
   ]
  },
  {
   "cell_type": "markdown",
   "metadata": {},
   "source": [
    "#### Model"
   ]
  },
  {
   "cell_type": "code",
   "execution_count": 16,
   "metadata": {},
   "outputs": [],
   "source": [
    "class DNNMiniBatchEarlyStoppingTF:\n",
    "    \"\"\"\n",
    "    \"\"\"\n",
    "    def __init__(self, n_epochs, layers = [300, 100, 10], batch_size = 100, dropout_rate = 0.025, threshold = 1, learning_rate_init = 0.004, learning_rate_range = (0.003,0.008), n_iterations = 5):\n",
    "        self.n_epochs = n_epochs\n",
    "        self.layers = layers\n",
    "        self.threshold = threshold\n",
    "        self.batch_size = batch_size\n",
    "        self.dropout_rate = dropout_rate\n",
    "        self.learning_rate_init = learning_rate_init\n",
    "        self.learning_rate_range = learning_rate_range\n",
    "        self.n_iterations = n_iterations\n",
    "        self.checkpoint_path = \"./tmp/model.ckpt\"\n",
    "        self.checkpoint_epoch_path = self.checkpoint_path + \".epoch\"\n",
    "        self.checkpoint_lr_path = self.checkpoint_path + \".lr\"\n",
    "        self.final_model_path = \"./final_model/model_final.model\"\n",
    "        if not os.path.isdir(\"./tmp\"):\n",
    "            os.mkdir(\"./tmp\")\n",
    "            \n",
    "    def random_batch(self, X_train, y_train, batch_size):\n",
    "        rnd_indices = np.random.randint(0, len(X_train), batch_size)\n",
    "        X_batch = X_train[rnd_indices]\n",
    "        y_batch = y_train[rnd_indices]\n",
    "        return X_batch, y_batch\n",
    "    \n",
    "    def log_dir(self, prefix=\"\"):\n",
    "        now = datetime.utcnow().strftime(\"%Y%m%d%H%M%S\")\n",
    "        root_logdir = \"./log\"\n",
    "        if prefix:\n",
    "            prefix += \"-\"\n",
    "        name = prefix + \"-\" + now\n",
    "        return \"{}/{}/\".format(root_logdir, name)\n",
    "    \n",
    "    def net(self, X, y, seed = 77, learning_rate = 0.01):\n",
    "        \"\"\"\n",
    "        Model - stworzenie grafu obliczen.\n",
    "        \"\"\"\n",
    "        n_inputs = int(X.get_shape()[1])\n",
    "        he_init = tf.keras.initializers.VarianceScaling()\n",
    "        training = tf.placeholder_with_default(False, shape=(), name='train_f')\n",
    "        with tf.name_scope(\"DNN_Model\"):\n",
    "            with tf.name_scope(\"net\"):\n",
    "                for layer, i in zip(self.layers[:-1], range(len(self.layers[:-1]))):\n",
    "                    X = tf.layers.dense(X, layer, name = \"hidden\" + str(i), kernel_initializer = he_init)\n",
    "                    X = tf.layers.dropout(X, self.dropout_rate, training = training)\n",
    "                    X = tf.layers.batch_normalization(X, training=training, momentum=0.9)\n",
    "                    X = tf.nn.elu(X)\n",
    "                logits = tf.layers.dense(X, self.layers[-1], kernel_initializer = he_init, name = 'logits') # Bez softmax bo jest zaimplementowana juz w loss function  \n",
    "                logits = tf.layers.batch_normalization(logits, training=training, momentum=0.9)\n",
    "            with tf.name_scope(\"loss\"):\n",
    "                xentropy = tf.nn.sparse_softmax_cross_entropy_with_logits(labels = y, logits = logits)\n",
    "                loss = tf.reduce_mean(xentropy, name = \"loss\")\n",
    "                loss_summary = tf.summary.scalar('loss', loss)\n",
    "            with tf.name_scope(\"learning\"):\n",
    "                optimizer = tf.train.MomentumOptimizer(learning_rate=learning_rate, momentum = 0.9, use_nesterov = True)\n",
    "                grads_and_vars = optimizer.compute_gradients(loss)\n",
    "                capped_gvs = [(tf.clip_by_value(grad, -self.threshold, self.threshold), var)\n",
    "                              for grad, var in grads_and_vars]\n",
    "                training_op = optimizer.apply_gradients(capped_gvs)\n",
    "            with tf.name_scope(\"eval\"):\n",
    "                correct = tf.nn.in_top_k(logits, y, 1)\n",
    "                accuracy = tf.reduce_mean(tf.cast(correct, tf.float32))\n",
    "                accuracy_summary = tf.summary.scalar('accuracy', accuracy)\n",
    "            with tf.name_scope(\"init\"):\n",
    "                init = tf.global_variables_initializer()\n",
    "            with tf.name_scope(\"save\"):\n",
    "                saver = tf.train.Saver(max_to_keep = 1000000)                        \n",
    "        return training_op, loss, loss_summary, accuracy, accuracy_summary, init, saver\n",
    "                               \n",
    "    def train(self, X_train, y_train, X_test, y_test):\n",
    "        \"\"\"\n",
    "        X_* - numpy ndarray\n",
    "        y_* - numpy ndarray\n",
    "        \"\"\"\n",
    "        \n",
    "        # wczytanie danych z checkpointu dla optymalizacji learning_rate\n",
    "        # lub inicjalizacja danych poczatkowych\n",
    "        if os.path.isfile(self.checkpoint_epoch_path):\n",
    "            with open(self.checkpoint_lr_path, 'r') as f:\n",
    "                dt = f.read().split(',')\n",
    "                start_iterations = int(dt[0])\n",
    "                lr_best = float(dt[1])\n",
    "                acc_best = float(dt[2])\n",
    "                print('Uczenie wznowione od przebiegu:', start_iterations + 1, '\\tNajlepszy lr', lr_best, '\\tNajlepsze accuracy', acc_best)\n",
    "        else:\n",
    "            start_iterations = 0\n",
    "            lr_best = 0\n",
    "            acc_best = 0\n",
    "            \n",
    "        n_batches = int(np.ceil(X_train.shape[0] / self.batch_size))\n",
    "        n_inputs = int(X_train.shape[1])\n",
    "        \n",
    "\n",
    "        for iteration in range(start_iterations, self.n_iterations):\n",
    "\n",
    "            with tf.Session() as sess:\n",
    "                \n",
    "                # folder logu - dane do tensorboard\n",
    "                logdir = self.log_dir('log')\n",
    "                file_writer = tf.summary.FileWriter(logdir, tf.get_default_graph())\n",
    "                \n",
    "                best_loss = np.infty\n",
    "                epochs_without_progress = 0\n",
    "                max_epochs_without_progress = 100\n",
    "                \n",
    "                if iteration == 0:\n",
    "                    lr = self.learning_rate_init\n",
    "                else:\n",
    "                    lr = reciprocal(self.learning_rate_range[0], self.learning_rate_range[1]).rvs(random_state = iteration)\n",
    "\n",
    "                print('Przebieg:', iteration + 1)\n",
    "                print('    Logdir:', logdir)\n",
    "                print('    Learning rate:', lr)\n",
    "\n",
    "                with open(self.checkpoint_lr_path, 'w') as f:\n",
    "                    f.write(\"%d, %s, %s\" % (iteration, lr_best, acc_best))\n",
    "\n",
    "                X = tf.placeholder(tf.float32, shape=(None, n_inputs), name=\"X\")\n",
    "                y = tf.placeholder(tf.int32, shape=(None), name=\"y\")\n",
    "                training_op, loss, loss_summary, accuracy, accuracy_summary, init, saver = self.net(X, y, learning_rate = lr)                \n",
    "\n",
    "                if os.path.isfile(self.checkpoint_epoch_path):\n",
    "                    with open(self.checkpoint_epoch_path, 'rb') as f:\n",
    "                        start_epoch = int(f.read())\n",
    "                    print('Uczenie wznowione od epoki:', start_epoch)\n",
    "                    saver.restore(sess, self.checkpoint_path)\n",
    "                else:\n",
    "                    start_epoch = 0\n",
    "                    sess.run(init)\n",
    "                \n",
    "                for epoch in range(start_epoch, self.n_epochs):\n",
    "                    for batch_index in range(n_batches):\n",
    "                        X_batch, y_batch = self.random_batch(X_train, y_train, self.batch_size)\n",
    "                        sess.run(training_op, feed_dict = {X : X_batch, y : y_batch})\n",
    "                               \n",
    "                    accuracy_val, loss_val, accuracy_summary_str, loss_summary_str = sess.run([accuracy, loss, accuracy_summary, loss_summary], feed_dict={X: X_test, y: y_test})\n",
    "                    file_writer.add_summary(loss_summary_str, epoch)\n",
    "                    file_writer.add_summary(accuracy_summary_str, epoch)\n",
    "                    acc_test = accuracy.eval(feed_dict={X: X_test, y: y_test})\n",
    "                               \n",
    "                    if epoch % 10 == 0 and epoch != 0:\n",
    "                        print('        Epoka:', epoch, '\\tLoss:', loss_val, '\\tAccuracy:', acc_test)\n",
    "                        saver.save(sess, self.checkpoint_path)\n",
    "                        with open(self.checkpoint_epoch_path, 'wb') as f:\n",
    "                             f.write(b\"%d\" % (epoch + 1))\n",
    "                               \n",
    "                    # Early stopping \n",
    "                    if epoch % 50 == 0:\n",
    "                        if loss_val < best_loss:\n",
    "                            best_loss = loss_val\n",
    "                            epochs_without_progress = 0\n",
    "                        else:\n",
    "                            epochs_without_progress += 50\n",
    "                            if epochs_without_progress > max_epochs_without_progress:\n",
    "                                print('        Wczesne zatrzymywanie... ')\n",
    "                                print('        Epoka:', epoch, '\\tLoss:', loss_val, '\\tAccuracy:', acc_test)\n",
    "                                saver.save(sess, self.checkpoint_path)\n",
    "                                with open(self.checkpoint_epoch_path, 'wb') as f:\n",
    "                                     f.write(b\"%d\" % (epoch + 1))\n",
    "                                break\n",
    "                            \n",
    "\n",
    "                accuracy_val = sess.run([accuracy], feed_dict={X: X_test, y: y_test})\n",
    "\n",
    "                if accuracy_val[0] > acc_best:\n",
    "                    # Problem z zapisywaniem modelu\n",
    "                    saver.save(sess, self.final_model_path)\n",
    "                    lr_best = lr\n",
    "                    acc_best = accuracy_val[0]\n",
    "\n",
    "                os.remove(self.checkpoint_epoch_path)        \n",
    "                print('    Final iteration accuracy:', accuracy_val[0])\n",
    "        \n",
    "            tf.reset_default_graph()\n",
    "\n",
    "        os.remove(self.checkpoint_lr_path)\n",
    "        self.acc_best = acc_best\n",
    "        self.lr_best = lr_best\n",
    "        print('Final accuracy:', acc_best, 'Learning rate:', lr_best)\n",
    "        \n",
    "    def predict(self, X_score):\n",
    "        \"\"\"\n",
    "        IN: X_score - numpy ndarray\n",
    "        OUT: ndarray \n",
    "        \"\"\"\n",
    "        with tf.Session() as sess:\n",
    "            saver = tf.train.import_meta_graph(self.final_model_path + '.meta')\n",
    "            saver.restore(sess, self.final_model_path)\n",
    "            graph = tf.get_default_graph()\n",
    "            X = graph.get_tensor_by_name(\"X:0\")\n",
    "            y = graph.get_tensor_by_name(\"y:0\")\n",
    "            logits_ = graph.get_tensor_by_name(\"DNN_Model/net/logits/BiasAdd:0\")\n",
    "            feed_dict = {X : X_score}\n",
    "            logits = sess.run(logits_, feed_dict = feed_dict)\n",
    "            result = tf.nn.softmax(logits, name='softmax').eval()\n",
    "            return [np.argmax(obs) for obs in result]"
   ]
  },
  {
   "cell_type": "code",
   "execution_count": 17,
   "metadata": {},
   "outputs": [],
   "source": [
    "model = DNNMiniBatchEarlyStoppingTF(n_epochs = 501, layers = [1000, 500, 250, 150,  10], n_iterations = 5)"
   ]
  },
  {
   "cell_type": "code",
   "execution_count": 18,
   "metadata": {},
   "outputs": [
    {
     "name": "stdout",
     "output_type": "stream",
     "text": [
      "Przebieg: 1\n",
      "    Logdir: ./log/log--20201021130146/\n",
      "    Learning rate: 0.004\n",
      "        Epoka: 10 \tLoss: 0.09796133 \tAccuracy: 0.9773\n",
      "        Epoka: 20 \tLoss: 0.11143364 \tAccuracy: 0.9768\n",
      "        Epoka: 30 \tLoss: 0.10949971 \tAccuracy: 0.9815\n",
      "        Epoka: 40 \tLoss: 0.11681877 \tAccuracy: 0.9838\n",
      "        Epoka: 50 \tLoss: 0.120898195 \tAccuracy: 0.9838\n",
      "        Epoka: 60 \tLoss: 0.12324914 \tAccuracy: 0.9839\n",
      "        Epoka: 70 \tLoss: 0.12557329 \tAccuracy: 0.9841\n",
      "        Epoka: 80 \tLoss: 0.12703443 \tAccuracy: 0.984\n",
      "        Epoka: 90 \tLoss: 0.12834005 \tAccuracy: 0.984\n",
      "        Epoka: 100 \tLoss: 0.12960526 \tAccuracy: 0.984\n",
      "        Epoka: 110 \tLoss: 0.13057698 \tAccuracy: 0.984\n",
      "        Epoka: 120 \tLoss: 0.13147424 \tAccuracy: 0.984\n",
      "        Epoka: 130 \tLoss: 0.13229163 \tAccuracy: 0.9838\n",
      "        Epoka: 140 \tLoss: 0.13302109 \tAccuracy: 0.9838\n",
      "        Epoka: 150 \tLoss: 0.13372387 \tAccuracy: 0.9838\n",
      "        Epoka: 160 \tLoss: 0.1343757 \tAccuracy: 0.9838\n",
      "        Epoka: 170 \tLoss: 0.13497624 \tAccuracy: 0.9836\n",
      "        Epoka: 180 \tLoss: 0.13539451 \tAccuracy: 0.9837\n",
      "        Epoka: 190 \tLoss: 0.13586518 \tAccuracy: 0.9836\n",
      "        Epoka: 200 \tLoss: 0.13637322 \tAccuracy: 0.9837\n",
      "        Wczesne zatrzymywanie... \n",
      "        Epoka: 200 \tLoss: 0.13637322 \tAccuracy: 0.9837\n",
      "    Final iteration accuracy: 0.9837\n",
      "Przebieg: 2\n",
      "    Logdir: ./log/log--20201021134417/\n",
      "    Learning rate: 0.004516058815604455\n",
      "        Epoka: 10 \tLoss: 0.10162945 \tAccuracy: 0.9762\n",
      "        Epoka: 20 \tLoss: 0.10344824 \tAccuracy: 0.9811\n",
      "        Epoka: 30 \tLoss: 0.118011 \tAccuracy: 0.9798\n",
      "        Epoka: 40 \tLoss: 0.11524233 \tAccuracy: 0.9805\n",
      "        Epoka: 50 \tLoss: 0.12256437 \tAccuracy: 0.9814\n",
      "        Epoka: 60 \tLoss: 0.12499719 \tAccuracy: 0.9816\n",
      "        Epoka: 70 \tLoss: 0.12715895 \tAccuracy: 0.9816\n",
      "        Epoka: 80 \tLoss: 0.12876031 \tAccuracy: 0.9817\n",
      "        Epoka: 90 \tLoss: 0.130187 \tAccuracy: 0.9815\n",
      "        Epoka: 100 \tLoss: 0.13138962 \tAccuracy: 0.9816\n",
      "        Epoka: 110 \tLoss: 0.13236006 \tAccuracy: 0.9816\n",
      "        Epoka: 120 \tLoss: 0.13350572 \tAccuracy: 0.9816\n",
      "        Epoka: 130 \tLoss: 0.13435233 \tAccuracy: 0.9816\n",
      "        Epoka: 140 \tLoss: 0.13515644 \tAccuracy: 0.9816\n",
      "        Epoka: 150 \tLoss: 0.13592185 \tAccuracy: 0.9816\n",
      "        Epoka: 160 \tLoss: 0.13657591 \tAccuracy: 0.9816\n",
      "        Epoka: 170 \tLoss: 0.13730726 \tAccuracy: 0.9816\n",
      "        Epoka: 180 \tLoss: 0.13783883 \tAccuracy: 0.9816\n",
      "        Epoka: 190 \tLoss: 0.13844256 \tAccuracy: 0.9816\n",
      "        Epoka: 200 \tLoss: 0.13899331 \tAccuracy: 0.9816\n",
      "        Wczesne zatrzymywanie... \n",
      "        Epoka: 200 \tLoss: 0.13899331 \tAccuracy: 0.9816\n",
      "    Final iteration accuracy: 0.9816\n",
      "Przebieg: 3\n",
      "    Logdir: ./log/log--20201021142646/\n",
      "    Learning rate: 0.004600885766316147\n",
      "        Epoka: 10 \tLoss: 0.102194145 \tAccuracy: 0.9755\n",
      "        Epoka: 20 \tLoss: 0.135188 \tAccuracy: 0.973\n",
      "        Epoka: 30 \tLoss: 0.12371895 \tAccuracy: 0.9794\n",
      "        Epoka: 40 \tLoss: 0.12354959 \tAccuracy: 0.9814\n",
      "        Epoka: 50 \tLoss: 0.12496477 \tAccuracy: 0.9817\n",
      "        Epoka: 60 \tLoss: 0.12889639 \tAccuracy: 0.9818\n",
      "        Epoka: 70 \tLoss: 0.13158305 \tAccuracy: 0.9818\n",
      "        Epoka: 80 \tLoss: 0.13367552 \tAccuracy: 0.9819\n",
      "        Epoka: 90 \tLoss: 0.13552114 \tAccuracy: 0.982\n",
      "        Epoka: 100 \tLoss: 0.1369571 \tAccuracy: 0.982\n",
      "        Epoka: 110 \tLoss: 0.13827999 \tAccuracy: 0.982\n",
      "        Epoka: 120 \tLoss: 0.1394734 \tAccuracy: 0.9821\n",
      "        Epoka: 130 \tLoss: 0.14056827 \tAccuracy: 0.9822\n",
      "        Epoka: 140 \tLoss: 0.14145933 \tAccuracy: 0.9823\n",
      "        Epoka: 150 \tLoss: 0.14227861 \tAccuracy: 0.9824\n",
      "        Epoka: 160 \tLoss: 0.14315239 \tAccuracy: 0.9824\n",
      "        Epoka: 170 \tLoss: 0.14392756 \tAccuracy: 0.9824\n",
      "        Epoka: 180 \tLoss: 0.14462076 \tAccuracy: 0.9826\n",
      "        Epoka: 190 \tLoss: 0.145199 \tAccuracy: 0.9825\n",
      "        Epoka: 200 \tLoss: 0.14582342 \tAccuracy: 0.9823\n",
      "        Wczesne zatrzymywanie... \n",
      "        Epoka: 200 \tLoss: 0.14582342 \tAccuracy: 0.9823\n",
      "    Final iteration accuracy: 0.9823\n",
      "Przebieg: 4\n",
      "    Logdir: ./log/log--20201021150901/\n",
      "    Learning rate: 0.005149249541759541\n",
      "        Epoka: 10 \tLoss: 0.10582653 \tAccuracy: 0.9738\n",
      "        Epoka: 20 \tLoss: 0.1387507 \tAccuracy: 0.9759\n",
      "        Epoka: 30 \tLoss: 0.13259162 \tAccuracy: 0.9772\n",
      "        Epoka: 40 \tLoss: 0.13040319 \tAccuracy: 0.9783\n",
      "        Epoka: 50 \tLoss: 0.1381538 \tAccuracy: 0.9801\n",
      "        Epoka: 60 \tLoss: 0.14306654 \tAccuracy: 0.98\n",
      "        Epoka: 70 \tLoss: 0.14601855 \tAccuracy: 0.9803\n",
      "        Epoka: 80 \tLoss: 0.14851215 \tAccuracy: 0.9804\n",
      "        Epoka: 90 \tLoss: 0.15052922 \tAccuracy: 0.9805\n",
      "        Epoka: 100 \tLoss: 0.15236992 \tAccuracy: 0.9803\n",
      "        Epoka: 110 \tLoss: 0.1539417 \tAccuracy: 0.9803\n",
      "        Epoka: 120 \tLoss: 0.15522596 \tAccuracy: 0.9803\n",
      "        Epoka: 130 \tLoss: 0.15652004 \tAccuracy: 0.9803\n",
      "        Epoka: 140 \tLoss: 0.15772907 \tAccuracy: 0.9805\n",
      "        Epoka: 150 \tLoss: 0.15876816 \tAccuracy: 0.9805\n",
      "        Epoka: 160 \tLoss: 0.15968071 \tAccuracy: 0.9805\n",
      "        Epoka: 170 \tLoss: 0.16051055 \tAccuracy: 0.9806\n",
      "        Epoka: 180 \tLoss: 0.16143094 \tAccuracy: 0.9806\n",
      "        Epoka: 190 \tLoss: 0.16221039 \tAccuracy: 0.9805\n",
      "        Epoka: 200 \tLoss: 0.16294548 \tAccuracy: 0.9805\n",
      "        Wczesne zatrzymywanie... \n",
      "        Epoka: 200 \tLoss: 0.16294548 \tAccuracy: 0.9805\n",
      "    Final iteration accuracy: 0.9805\n",
      "Przebieg: 5\n",
      "    Logdir: ./log/log--20201021155230/\n",
      "    Learning rate: 0.007745433495437058\n",
      "        Epoka: 10 \tLoss: 0.1367649 \tAccuracy: 0.9641\n",
      "        Epoka: 20 \tLoss: 0.14118236 \tAccuracy: 0.9676\n",
      "        Epoka: 30 \tLoss: 0.16049118 \tAccuracy: 0.9695\n",
      "        Epoka: 40 \tLoss: 0.16855116 \tAccuracy: 0.9704\n",
      "        Epoka: 50 \tLoss: 0.16218746 \tAccuracy: 0.9727\n",
      "        Epoka: 60 \tLoss: 0.19095981 \tAccuracy: 0.973\n",
      "        Epoka: 70 \tLoss: 0.20788784 \tAccuracy: 0.9742\n",
      "        Epoka: 80 \tLoss: 0.19463797 \tAccuracy: 0.9708\n",
      "        Epoka: 90 \tLoss: 0.21840715 \tAccuracy: 0.9721\n",
      "        Epoka: 100 \tLoss: 0.22356844 \tAccuracy: 0.9704\n",
      "        Epoka: 110 \tLoss: 0.2022501 \tAccuracy: 0.9753\n",
      "        Epoka: 120 \tLoss: 0.21610557 \tAccuracy: 0.9754\n",
      "        Epoka: 130 \tLoss: 0.22397354 \tAccuracy: 0.9751\n",
      "        Epoka: 140 \tLoss: 0.23027432 \tAccuracy: 0.9751\n",
      "        Epoka: 150 \tLoss: 0.23490512 \tAccuracy: 0.9752\n",
      "        Epoka: 160 \tLoss: 0.23932014 \tAccuracy: 0.9752\n",
      "        Epoka: 170 \tLoss: 0.24283054 \tAccuracy: 0.975\n",
      "        Epoka: 180 \tLoss: 0.24587229 \tAccuracy: 0.975\n",
      "        Epoka: 190 \tLoss: 0.24860196 \tAccuracy: 0.975\n",
      "        Epoka: 200 \tLoss: 0.25082472 \tAccuracy: 0.975\n",
      "        Wczesne zatrzymywanie... \n",
      "        Epoka: 200 \tLoss: 0.25082472 \tAccuracy: 0.975\n",
      "    Final iteration accuracy: 0.975\n",
      "Final accuracy: 0.9837 Learning rate: 0.004\n"
     ]
    }
   ],
   "source": [
    "tf.reset_default_graph()\n",
    "model.train(X_train = X_train_re, y_train = y_train, X_test = X_test_re, y_test = y_test)"
   ]
  },
  {
   "cell_type": "code",
   "execution_count": 13,
   "metadata": {},
   "outputs": [
    {
     "name": "stdout",
     "output_type": "stream",
     "text": [
      "INFO:tensorflow:Restoring parameters from ./final_model/model_final.model\n"
     ]
    }
   ],
   "source": [
    "pred = model.predict(X_test_re)"
   ]
  },
  {
   "cell_type": "code",
   "execution_count": 14,
   "metadata": {},
   "outputs": [],
   "source": [
    "def plot_digit(X, y, pred, n = None):\n",
    "    if not n:\n",
    "        n = random.randint(0, len(X))\n",
    "    digit, label, pred = X[n], y[n], pred[n]\n",
    "    plt.imshow(digit, cmap = matplotlib.cm.binary, interpolation = 'nearest')\n",
    "    plt.axis('off')\n",
    "    plt.title(\"Label:\" + str(label) + \" Pred:\" + str(pred))\n",
    "    plt.show()"
   ]
  },
  {
   "cell_type": "code",
   "execution_count": 15,
   "metadata": {
    "scrolled": true
   },
   "outputs": [
    {
     "data": {
      "image/png": "[encoded data removed]",
      "text/plain": [
       "<Figure size 432x288 with 1 Axes>"
      ]
     },
     "metadata": {
      "needs_background": "light"
     },
     "output_type": "display_data"
    }
   ],
   "source": [
    "plot_digit(X = X_test, y = y_test, pred = pred, n = None)"
   ]
  },
  {
   "cell_type": "markdown",
   "metadata": {},
   "source": [
    "### Projec goal has been archieved (accuracy: ~ 98.4 %)"
   ]
  }
 ],
 "metadata": {
  "kernelspec": {
   "display_name": "Python 3",
   "language": "python",
   "name": "python3"
  },
  "language_info": {
   "codemirror_mode": {
    "name": "ipython",
    "version": 3
   },
   "file_extension": ".py",
   "mimetype": "text/x-python",
   "name": "python",
   "nbconvert_exporter": "python",
   "pygments_lexer": "ipython3",
   "version": "3.7.3"
  }
 },
 "nbformat": 4,
 "nbformat_minor": 4
}
