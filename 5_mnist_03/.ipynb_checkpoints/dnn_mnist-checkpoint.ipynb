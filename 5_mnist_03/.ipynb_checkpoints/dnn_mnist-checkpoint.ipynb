{
 "cells": [
  {
   "cell_type": "markdown",
   "metadata": {},
   "source": [
    "### Project goal: accuracy > 99.0% on independent test set"
   ]
  },
  {
   "cell_type": "markdown",
   "metadata": {},
   "source": [
    "#### Tensorflow v > 2 but using compat.v1 (transition code)"
   ]
  },
  {
   "cell_type": "code",
   "execution_count": 1,
   "metadata": {},
   "outputs": [],
   "source": [
    "import matplotlib.pyplot as plt\n",
    "import numpy as np\n",
    "import matplotlib\n",
    "import random\n",
    "import tensorflow.compat.v1 as tf\n",
    "from tensorflow.keras.datasets.mnist import load_data\n",
    "from sklearn.metrics import precision_score, recall_score, accuracy_score\n",
    "from sklearn.preprocessing import PolynomialFeatures\n",
    "from sklearn.model_selection import StratifiedShuffleSplit\n",
    "import os\n",
    "from scipy.stats import reciprocal\n",
    "from datetime import datetime\n",
    "from net import DNNMiniBatchEarlyStoppingTF\n",
    "import math"
   ]
  },
  {
   "cell_type": "markdown",
   "metadata": {},
   "source": [
    "#### Load data"
   ]
  },
  {
   "cell_type": "code",
   "execution_count": 2,
   "metadata": {},
   "outputs": [],
   "source": [
    "(X_train, y_train), (X_test, y_test) = load_data()"
   ]
  },
  {
   "cell_type": "code",
   "execution_count": 3,
   "metadata": {},
   "outputs": [],
   "source": [
    "def reshape_data(X):\n",
    "    return X.reshape(X.shape[0], -1)"
   ]
  },
  {
   "cell_type": "code",
   "execution_count": 4,
   "metadata": {},
   "outputs": [],
   "source": [
    "X_train_re, X_test_re = reshape_data(X_train), reshape_data(X_test)\n",
    "X_train_re, X_test_re = X_train_re.astype(float), X_test_re.astype(float)"
   ]
  },
  {
   "cell_type": "markdown",
   "metadata": {},
   "source": [
    "#### Wizualizacja przykladowych danych"
   ]
  },
  {
   "cell_type": "code",
   "execution_count": 5,
   "metadata": {},
   "outputs": [
    {
     "name": "stdout",
     "output_type": "stream",
     "text": [
      "Ilosc przykladow uczacych: 60000\n",
      "Ilosc przykladow testowych: 10000\n"
     ]
    }
   ],
   "source": [
    "print('Ilosc przykladow uczacych:', len(X_train))\n",
    "print('Ilosc przykladow testowych:', len(X_test))"
   ]
  },
  {
   "cell_type": "code",
   "execution_count": 6,
   "metadata": {},
   "outputs": [],
   "source": [
    "def plot_digit(X, y, n = None):\n",
    "    if not n:\n",
    "        n = random.randint(0, len(X))\n",
    "    digit, label = X[n], y[n]\n",
    "    plt.imshow(digit, cmap = matplotlib.cm.binary, interpolation = 'nearest')\n",
    "    plt.axis('off')\n",
    "    plt.title(\"Label:\" + str(label))\n",
    "    plt.show()"
   ]
  },
  {
   "cell_type": "code",
   "execution_count": 7,
   "metadata": {},
   "outputs": [
    {
     "data": {
      "image/png": "[encoded data removed]",
      "text/plain": [
       "<Figure size 432x288 with 1 Axes>"
      ]
     },
     "metadata": {
      "needs_background": "light"
     },
     "output_type": "display_data"
    }
   ],
   "source": [
    "plot_digit(X = X_train, y = y_train)"
   ]
  },
  {
   "cell_type": "markdown",
   "metadata": {},
   "source": [
    "#### Normalize data"
   ]
  },
  {
   "cell_type": "code",
   "execution_count": 8,
   "metadata": {},
   "outputs": [],
   "source": [
    "# def scale(X):\n",
    "    \n",
    "#     def scale(x):\n",
    "#         if x != 0:\n",
    "#             return 1\n",
    "#         else:\n",
    "#             return 0\n",
    "        \n",
    "#     func = np.vectorize(scale)\n",
    "    \n",
    "#     return func(X)\n",
    "def scale(X):\n",
    "    \n",
    "    def scale(x):\n",
    "        return x / 255.0\n",
    "        \n",
    "    func = np.vectorize(scale)\n",
    "    \n",
    "    return func(X)"
   ]
  },
  {
   "cell_type": "code",
   "execution_count": 9,
   "metadata": {},
   "outputs": [],
   "source": [
    "X_train, X_test = scale(X_train), scale(X_test)"
   ]
  },
  {
   "cell_type": "markdown",
   "metadata": {},
   "source": [
    "#### Reset grafu"
   ]
  },
  {
   "cell_type": "code",
   "execution_count": 10,
   "metadata": {},
   "outputs": [],
   "source": [
    "import random\n",
    "def reset_graph():\n",
    "    tf.reset_default_graph()\n",
    "    seed = random.randint(1, 500)\n",
    "    tf.set_random_seed(seed)\n",
    "    np.random.seed(seed)"
   ]
  },
  {
   "cell_type": "code",
   "execution_count": 11,
   "metadata": {},
   "outputs": [],
   "source": [
    "reset_graph()"
   ]
  },
  {
   "cell_type": "markdown",
   "metadata": {},
   "source": [
    "#### Model"
   ]
  },
  {
   "cell_type": "code",
   "execution_count": 12,
   "metadata": {},
   "outputs": [],
   "source": [
    "class DNNConv(DNNMiniBatchEarlyStoppingTF):\n",
    "    \n",
    "    def net(self, X, y, seed = 77, learning_rate = 0.01):\n",
    "        \"\"\"\n",
    "        Model - stworzenie grafu obliczen.\n",
    "        \"\"\"\n",
    "        n_inputs = int(X.get_shape()[1])\n",
    "        if self.reshape_input:\n",
    "            X = tf.reshape(X, shape=[-1, int(math.sqrt(n_inputs)), int(math.sqrt(n_inputs)), 1])\n",
    "        he_init = tf.keras.initializers.VarianceScaling()\n",
    "        training = tf.placeholder_with_default(False, shape=(), name='train_f')\n",
    "        with tf.name_scope(\"DNN_Model\"):\n",
    "            with tf.name_scope(\"net_conv\"):\n",
    "                X = tf.layers.conv2d(X, filters = 32, kernel_size = 3,\n",
    "                         strides = 1, padding = \"SAME\", activation = tf.nn.relu, name = \"conv1\")\n",
    "                X = tf.layers.conv2d(X, filters = 64, kernel_size = 3,\n",
    "                         strides = 1, padding = \"SAME\", activation = tf.nn.relu, name = \"conv2\")\n",
    "                X = tf.nn.max_pool(X, ksize = [1, 2, 2, 1], strides = [1, 2, 2, 1], padding = \"VALID\")\n",
    "                X = tf.reshape(X, shape=[-1, 64 * 14 * 14])\n",
    "                X = tf.layers.dropout(X, 0.2, training = training)\n",
    "            with tf.name_scope(\"net_fully_connected\"):\n",
    "                for layer, i in zip(self.layers[:-1], range(len(self.layers[:-1]))):\n",
    "                    X = tf.layers.dense(X, layer, name = \"hidden\" + str(i), kernel_initializer = he_init)\n",
    "                    X = tf.layers.dropout(X, self.dropout_rate, training = training)\n",
    "                    #X = tf.layers.batch_normalization(X, training = training, momentum=0.9)\n",
    "                    X = tf.nn.relu(X)\n",
    "                logits = tf.layers.dense(X, self.layers[-1], kernel_initializer = he_init, name = 'logits') # Bez softmax bo jest zaimplementowana juz w loss function  \n",
    "                #logits = tf.layers.batch_normalization(logits, training = training, momentum=0.9)\n",
    "            with tf.name_scope(\"loss\"):\n",
    "                xentropy = tf.nn.sparse_softmax_cross_entropy_with_logits(labels = y, logits = logits)\n",
    "                loss = tf.reduce_mean(xentropy, name = \"loss\")\n",
    "                loss_summary = tf.summary.scalar('loss', loss)\n",
    "            with tf.name_scope(\"learning\"):\n",
    "                optimizer = tf.train.MomentumOptimizer(learning_rate = learning_rate, momentum = 0.9, use_nesterov = True)\n",
    "                grads_and_vars = optimizer.compute_gradients(loss)\n",
    "                capped_gvs = [(tf.clip_by_value(grad, -self.threshold, self.threshold), var)\n",
    "                              for grad, var in grads_and_vars]\n",
    "                training_op = optimizer.apply_gradients(capped_gvs)\n",
    "#                 optimizer = tf.train.AdamOptimizer()\n",
    "#                 training_op = optimizer.minimize(loss)\n",
    "            with tf.name_scope(\"eval\"):\n",
    "                correct = tf.nn.in_top_k(logits, y, 1)\n",
    "                accuracy = tf.reduce_mean(tf.cast(correct, tf.float32))\n",
    "                accuracy_summary = tf.summary.scalar('accuracy', accuracy)\n",
    "            with tf.name_scope(\"init\"):\n",
    "                init = tf.global_variables_initializer()\n",
    "            with tf.name_scope(\"save\"):\n",
    "                saver = tf.train.Saver(max_to_keep = 1000000)                        \n",
    "        return training_op, loss, loss_summary, accuracy, accuracy_summary, init, saver, training"
   ]
  },
  {
   "cell_type": "code",
   "execution_count": 13,
   "metadata": {},
   "outputs": [],
   "source": [
    "# params = {}\n",
    "# params['n_epochs'] = 25 + 1\n",
    "# params['layers'] = [256, 128, 10] # Fully conected layers\n",
    "# params['n_iterations'] = 5\n",
    "# params['dropout_rate'] = 0.25 # In fully cconnected layers\n",
    "# params['learning_rate_init'] = 0.002\n",
    "# params['learning_rate_range'] = (0.001, 0.01)\n",
    "# params['threshold'] = 1\n",
    "# params['batch_size'] = 50\n",
    "# params['reshape_input'] = True # If conv then initial reshape from dense\n",
    "# params['pr_epochs'] = 1 "
   ]
  },
  {
   "cell_type": "code",
   "execution_count": 14,
   "metadata": {},
   "outputs": [],
   "source": [
    "# Best params\n",
    "# 1) 99.15 \n",
    "params = {}\n",
    "params['n_epochs'] = 17 + 1\n",
    "params['layers'] = [256, 128, 10] # Fully conected layers\n",
    "params['n_iterations'] = 1\n",
    "params['dropout_rate'] = 0.30 # In fully cconnected layers\n",
    "params['learning_rate_init'] = 0.0013\n",
    "params['learning_rate_range'] = (0.001, 0.01)\n",
    "params['threshold'] = 1\n",
    "params['batch_size'] = 50\n",
    "params['reshape_input'] = True # If conv then initial reshape from dense\n",
    "params['pr_epochs'] = 1 "
   ]
  },
  {
   "cell_type": "code",
   "execution_count": 15,
   "metadata": {},
   "outputs": [],
   "source": [
    "model = DNNConv(**params)"
   ]
  },
  {
   "cell_type": "code",
   "execution_count": 21,
   "metadata": {},
   "outputs": [
    {
     "name": "stdout",
     "output_type": "stream",
     "text": [
      "Przebieg: 1\n",
      "    Logdir: ./log/log--20201113092925/\n",
      "    Learning rate: 0.0013\n",
      "        Epoka: 1 \tLoss: 0.046617277 \tAccuracy: 0.9858\n",
      "        Epoka: 2 \tLoss: 0.04097281 \tAccuracy: 0.9872\n",
      "        Epoka: 3 \tLoss: 0.03651904 \tAccuracy: 0.9883\n",
      "        Epoka: 4 \tLoss: 0.040917244 \tAccuracy: 0.9875\n",
      "        Epoka: 5 \tLoss: 0.037650716 \tAccuracy: 0.9887\n",
      "        Epoka: 6 \tLoss: 0.03688749 \tAccuracy: 0.9893\n",
      "        Epoka: 7 \tLoss: 0.03310396 \tAccuracy: 0.99\n",
      "        Epoka: 8 \tLoss: 0.030036932 \tAccuracy: 0.9908\n",
      "        Epoka: 9 \tLoss: 0.03422913 \tAccuracy: 0.9896\n",
      "        Epoka: 10 \tLoss: 0.033602893 \tAccuracy: 0.9901\n",
      "        Epoka: 11 \tLoss: 0.033648785 \tAccuracy: 0.9915\n",
      "        Epoka: 12 \tLoss: 0.030919291 \tAccuracy: 0.9908\n",
      "        Epoka: 13 \tLoss: 0.038302574 \tAccuracy: 0.9907\n",
      "        Epoka: 14 \tLoss: 0.035127968 \tAccuracy: 0.9909\n",
      "        Epoka: 15 \tLoss: 0.04254543 \tAccuracy: 0.9898\n",
      "        Epoka: 16 \tLoss: 0.03592514 \tAccuracy: 0.9905\n",
      "        Epoka: 17 \tLoss: 0.03333552 \tAccuracy: 0.9917\n",
      "    Final iteration accuracy: 0.9917\n",
      "Final accuracy: 0.9917 Learning rate: 0.0013\n",
      "CPU times: user 3h 55min 11s, sys: 13min 25s, total: 4h 8min 36s\n",
      "Wall time: 1h 32min 32s\n"
     ]
    }
   ],
   "source": [
    "%%time\n",
    "tf.reset_default_graph()\n",
    "model.train(X_train = X_train_re, y_train = y_train, X_test = X_test_re, y_test = y_test)"
   ]
  },
  {
   "cell_type": "code",
   "execution_count": 19,
   "metadata": {},
   "outputs": [],
   "source": [
    "def plot_digit(X, y, pred, n = None):\n",
    "    if not n:\n",
    "        n = random.randint(0, len(X))\n",
    "    digit, label, pred = X[n], y[n], pred[n]\n",
    "    plt.imshow(digit, cmap = matplotlib.cm.binary, interpolation = 'nearest')\n",
    "    plt.axis('off')\n",
    "    plt.title(\"Label:\" + str(label) + \" Pred:\" + str(pred))\n",
    "    plt.show()"
   ]
  },
  {
   "cell_type": "code",
   "execution_count": 22,
   "metadata": {
    "scrolled": true
   },
   "outputs": [
    {
     "data": {
      "image/png": "[encoded data removed]",
      "text/plain": [
       "<Figure size 432x288 with 1 Axes>"
      ]
     },
     "metadata": {
      "needs_background": "light"
     },
     "output_type": "display_data"
    }
   ],
   "source": [
    "plot_digit(X = X_test, y = y_test, pred = pred, n = None)"
   ]
  },
  {
   "cell_type": "markdown",
   "metadata": {},
   "source": [
    "### Projec goal has been archieved (accuracy: ~ 99.2 %)"
   ]
  }
 ],
 "metadata": {
  "kernelspec": {
   "display_name": "Python 3",
   "language": "python",
   "name": "python3"
  },
  "language_info": {
   "codemirror_mode": {
    "name": "ipython",
    "version": 3
   },
   "file_extension": ".py",
   "mimetype": "text/x-python",
   "name": "python",
   "nbconvert_exporter": "python",
   "pygments_lexer": "ipython3",
   "version": "3.7.3"
  }
 },
 "nbformat": 4,
 "nbformat_minor": 4
}
